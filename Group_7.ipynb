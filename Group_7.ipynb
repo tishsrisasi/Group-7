{
 "cells": [
  {
   "cell_type": "code",
   "execution_count": 12,
   "id": "eadecf2c-6e31-444c-ad63-5239fbf032fb",
   "metadata": {},
   "outputs": [],
   "source": [
    "rate = 1.16"
   ]
  },
  {
   "cell_type": "code",
   "execution_count": 13,
   "id": "b616c518-c64c-4001-a4ac-2180071ae8a9",
   "metadata": {},
   "outputs": [],
   "source": [
    "amounts_gbp = [12.50, 3.20]"
   ]
  },
  {
   "cell_type": "code",
   "execution_count": 14,
   "id": "3df1ed25-e99b-4d71-8215-0322b317685a",
   "metadata": {},
   "outputs": [],
   "source": [
    "amounts_euro = []"
   ]
  },
  {
   "cell_type": "code",
   "execution_count": 15,
   "id": "95d72b1d-fcf0-4e71-baa5-e87188428ceb",
   "metadata": {},
   "outputs": [],
   "source": [
    "for amount in amounts_gbp:\n",
    "    amounts_euro.append(amount * rate)"
   ]
  },
  {
   "cell_type": "code",
   "execution_count": 16,
   "id": "6e3e2b6e-9900-4f65-b947-6850e300b177",
   "metadata": {},
   "outputs": [
    {
     "data": {
      "text/plain": [
       "[14.499999999999998, 3.7119999999999997]"
      ]
     },
     "execution_count": 16,
     "metadata": {},
     "output_type": "execute_result"
    }
   ],
   "source": [
    "amounts_euro"
   ]
  },
  {
   "cell_type": "code",
   "execution_count": 26,
   "id": "bcbb33f3-6227-4be5-b78a-c7c59190d462",
   "metadata": {},
   "outputs": [],
   "source": [
    "euro_total = 0.00"
   ]
  },
  {
   "cell_type": "code",
   "execution_count": 27,
   "id": "3b69e214-7c45-4ed8-9e43-232ec3c6e5e8",
   "metadata": {},
   "outputs": [],
   "source": [
    "for euros in amounts_euro:\n",
    "    euro_total = euro_total + euros"
   ]
  },
  {
   "cell_type": "code",
   "execution_count": 28,
   "id": "322d1aef-46a7-4818-baa5-facc020e80e5",
   "metadata": {},
   "outputs": [],
   "source": [
    "total = round(euro_total, 2)"
   ]
  },
  {
   "cell_type": "code",
   "execution_count": 29,
   "id": "dbb6a9db-c247-4a8c-8790-b5d2702c8318",
   "metadata": {},
   "outputs": [
    {
     "data": {
      "text/plain": [
       "18.21"
      ]
     },
     "execution_count": 29,
     "metadata": {},
     "output_type": "execute_result"
    }
   ],
   "source": [
    "total"
   ]
  },
  {
   "cell_type": "code",
   "execution_count": 56,
   "id": "0567eec4-a9e8-45a2-978a-bed08e4d0f64",
   "metadata": {},
   "outputs": [
    {
     "name": "stdout",
     "output_type": "stream",
     "text": [
      "[14.5, 3.71]\n",
      "Total Amount of Euros is EUR: 18.21\n",
      "\n"
     ]
    }
   ],
   "source": [
    "#Question 7 code (version 2) - feel free to adapt/modify and improve!\n",
    "\n",
    "#init variables\n",
    "rate = 1.16 #EURO per GBP rate\n",
    "amounts_gbp = [12.50, 3.20] #list of GBP values given in question\n",
    "euro_total = 0.00 #total euro set to zero\n",
    "\n",
    "#for loops - Using list comprehension\n",
    "euro_list = [round(amount * rate,2) for amount in amounts_gbp]\n",
    "euro_total = round(sum(amount * rate for amount in amounts_gbp), 2)\n",
    "\n",
    "#printing out the result onto screen\n",
    "print(f\"{euro_list}\")\n",
    "print(f\"Total Amount of Euros is EUR: {euro_total}\\n\")"
   ]
  },
  {
   "cell_type": "code",
   "execution_count": 37,
   "id": "c11f90b4-0e22-4e89-b3ff-6db7fceea731",
   "metadata": {},
   "outputs": [
    {
     "name": "stdout",
     "output_type": "stream",
     "text": [
      "[14.5, 3.71]\n",
      "18.21\n",
      "[[14.5, 3.71], 18.21]\n"
     ]
    }
   ],
   "source": [
    "def gbp2euro(rate_fl, gbp_lst):\n",
    "\n",
    "    #\ta) Convert both amounts to EUR (store in a new list). \n",
    "    euro_list = [round(amount * rate,2) for amount in amounts_gbp]\n",
    "\n",
    "    #\tb) Compute the total EUR across those items. \n",
    "    euro_amount = round(sum(amount * rate_fl for amount in gbp_lst), 2)\n",
    "\n",
    "    \"\"\" Print to screen - Not really needed in a function but just to give an idea of what values the function generated \"\"\"\n",
    "    print(euro_list)\n",
    "    print(euro_amount)\n",
    "\n",
    "    return [euro_list, euro_amount] #returns a) a list of 2 EURO calculations b) the total EURO [square brackets used so return is a list!]\n",
    "\n",
    "euro_total = gbp2euro(1.16,[12.50,3.20])\n",
    "\n",
    "print(euro_total)\n",
    "#print(f\"Total Amount of Euros is EUR: {euro_total}\\n\")"
   ]
  },
  {
   "cell_type": "code",
   "execution_count": 54,
   "id": "79275f60-dc27-4895-96d4-6840552b5965",
   "metadata": {},
   "outputs": [
    {
     "name": "stdout",
     "output_type": "stream",
     "text": [
      "PROOF OF CLASS CONCEPT (FOR 1 CUSTOMER with 2 GBP AMOUNTS TO EXCHANGE\n",
      "---------------------------------------------------------------------\n",
      "List of GBPs: [12.5, 3.2] coverts to list of EUROs: [14.5, 3.71]\n",
      "\n",
      "Total amount of Euros is EUR: 18.21\n",
      "\n",
      "Full Results in a new list: [[14.5, 3.71], 18.21]\n",
      "\n"
     ]
    }
   ],
   "source": [
    "class MoneyExchangeGBP_EUR:\n",
    "    \n",
    "    \"\"\"Creates an instance of MoneyExchangeGBP_EUR\"\"\"\n",
    "    \n",
    "    def __init__(self, rate_fl, gbp_lst):\n",
    "        \n",
    "        self.rate_fl = rate_fl \n",
    "        self.gbp_lst = gbp_lst\n",
    "\n",
    "    # 1. Converts both amount to EUR (stores the value in a new list).\n",
    "    \n",
    "    def calculate_euro_list(self):\n",
    "        \n",
    "        return [round(amount * self.rate_fl,2) for amount in self.gbp_lst]\n",
    "\n",
    "    #2. Computes the total EURO across the listed items.\n",
    "    \n",
    "    def calculate_euro_amt(self):\n",
    "        \n",
    "        return round(sum(amount * self.rate_fl for amount in self.gbp_lst), 2)\n",
    "\n",
    "    def return_all(self):\n",
    "\n",
    "        return [\n",
    "                [round(amount * self.rate_fl,2) for amount in self.gbp_lst],\n",
    "                round(sum(amount * self.rate_fl for amount in self.gbp_lst), 2)\n",
    "        ]\n",
    "\n",
    "euro_total = MoneyExchangeGBP_EUR(1.16,[12.50,3.20])\n",
    "\n",
    "print(\"PROOF OF CLASS CONCEPT (FOR 1 CUSTOMER with 2 GBP AMOUNTS TO EXCHANGE\")\n",
    "print(\"---------------------------------------------------------------------\")\n",
    "print(f\"List of GBPs: {euro_total.gbp_lst} coverts to list of EUROs: {euro_total.calculate_euro_list()}\\n\")\n",
    "\n",
    "print(f\"Total amount of Euros is EUR: {euro_total.calculate_euro_amt()}\\n\")\n",
    "\n",
    "print(f\"Full Results in a new list: {euro_total.return_all()}\\n\")"
   ]
  },
  {
   "cell_type": "code",
   "execution_count": 55,
   "id": "d5b19bd5-df80-40e6-b571-f2b21511ce30",
   "metadata": {},
   "outputs": [
    {
     "name": "stdout",
     "output_type": "stream",
     "text": [
      "Customer 1\n",
      "[12.5]\n",
      "[15.0]\n",
      "15.0\n",
      "[[15.0], 15.0]\n",
      "\n",
      "Customer 2\n",
      "[12.5, 13.4]\n",
      "[16.25, 17.42]\n",
      "33.67\n",
      "[[16.25, 17.42], 33.67]\n",
      "\n",
      "Customer 3\n",
      "[12.5, 13.4, 14.5]\n",
      "[16.88, 18.09, 19.58]\n",
      "54.54\n",
      "[[16.88, 18.09, 19.58], 54.54]\n",
      "\n",
      "Customer 4\n",
      "[12.5, 13.4, 14.5, 15.6]\n",
      "[18.75, 20.1, 21.75, 23.4]\n",
      "84.0\n",
      "[[18.75, 20.1, 21.75, 23.4], 84.0]\n"
     ]
    }
   ],
   "source": [
    "fx_customer1 = MoneyExchangeGBP_EUR(1.20,[12.50])\n",
    "fx_customer2 = MoneyExchangeGBP_EUR(1.30,[12.50,13.40])\n",
    "fx_customer3 = MoneyExchangeGBP_EUR(1.35,[12.50,13.40,14.50])\n",
    "fx_customer4 = MoneyExchangeGBP_EUR(1.50,[12.50,13.40,14.50,15.60])\n",
    "\n",
    "print(\"Customer 1\")\n",
    "print(fx_customer1.gbp_lst)\n",
    "print(fx_customer1.calculate_euro_list())\n",
    "print(fx_customer1.calculate_euro_amt())\n",
    "print(fx_customer1.return_all())\n",
    "print()\n",
    "print(\"Customer 2\")\n",
    "print(fx_customer2.gbp_lst)\n",
    "print(fx_customer2.calculate_euro_list())\n",
    "print(fx_customer2.calculate_euro_amt())\n",
    "print(fx_customer2.return_all())\n",
    "print()\n",
    "print(\"Customer 3\")\n",
    "print(fx_customer3.gbp_lst)\n",
    "print(fx_customer3.calculate_euro_list())\n",
    "print(fx_customer3.calculate_euro_amt())\n",
    "print(fx_customer3.return_all())\n",
    "print()\n",
    "print(\"Customer 4\")\n",
    "print(fx_customer4.gbp_lst)\n",
    "print(fx_customer4.calculate_euro_list())\n",
    "print(fx_customer4.calculate_euro_amt())\n",
    "print(fx_customer4.return_all())"
   ]
  },
  {
   "cell_type": "code",
   "execution_count": null,
   "id": "b862886c-2694-4823-ae6e-22e9bee084f5",
   "metadata": {},
   "outputs": [],
   "source": []
  }
 ],
 "metadata": {
  "kernelspec": {
   "display_name": "Python [conda env:base] *",
   "language": "python",
   "name": "conda-base-py"
  },
  "language_info": {
   "codemirror_mode": {
    "name": "ipython",
    "version": 3
   },
   "file_extension": ".py",
   "mimetype": "text/x-python",
   "name": "python",
   "nbconvert_exporter": "python",
   "pygments_lexer": "ipython3",
   "version": "3.13.5"
  }
 },
 "nbformat": 4,
 "nbformat_minor": 5
}
